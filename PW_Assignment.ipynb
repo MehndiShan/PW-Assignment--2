{
  "nbformat": 4,
  "nbformat_minor": 0,
  "metadata": {
    "colab": {
      "provenance": []
    },
    "kernelspec": {
      "name": "python3",
      "display_name": "Python 3"
    },
    "language_info": {
      "name": "python"
    }
  },
  "cells": [
    {
      "cell_type": "code",
      "execution_count": null,
      "metadata": {
        "id": "XSNbfFuxzzm-"
      },
      "outputs": [],
      "source": []
    },
    {
      "cell_type": "markdown",
      "source": [
        "1- Write a simple program in HTML that displays the heading \"HTML defines the content and structure of your website” on the web browser ?\n",
        "\n",
        "          -> To write a program in HTML with in VS code , I will start by punching ! that will print the  boilerplate ,\n",
        "\n",
        "- An HTML boilerplate is a pre-built template containing essential HTML elements, serving as a foundation for new projects.\n",
        "\n",
        "    It streamlines development by eliminating the need to start from scratch every time."
      ],
      "metadata": {
        "id": "yMfrmqucFNfO"
      }
    },
    {
      "cell_type": "code",
      "source": [
        "<!DOCTYPE html>\n",
        "<html lang=\"en\">\n",
        "<head>\n",
        "    <meta charset=\"UTF-8\">\n",
        "\n",
        "    <meta name=\"viewport\" content=\"width=device-width, initial-scale=1.0\">\n",
        "\n",
        "    <title>HTML Heading Example</title>\n",
        "\n",
        "</head>\n",
        "\n",
        "<body>\n",
        "    <h1>HTML defines the content and structure of your website</h1>\n",
        "</body>\n",
        "</html>\n",
        "\n",
        "\n",
        "\n"
      ],
      "metadata": {
        "id": "4nhO_aZGIaeG"
      },
      "execution_count": null,
      "outputs": []
    },
    {
      "cell_type": "markdown",
      "source": [
        "Explanation:\n",
        "<!DOCTYPE html>: Declares the document type and version of HTML.\n",
        "\n",
        "<html>: The root element of an HTML page.\n",
        "\n",
        "<head>: Contains metadata about the document.\n",
        "\n",
        "<meta charset=\"UTF-8\">: Specifies the character encoding for the HTML document.\n",
        "\n",
        "<meta name=\"viewport\" content=\"width=device-width, initial-scale=1.0\">: Controls the zooming and width of the webpage on mobile devices.\n",
        "\n",
        "<title>HTML Heading Example</title>\n",
        "\n",
        "\n",
        "\n",
        "<body>: Contains the content of the HTML document.\n",
        "\n",
        "<h4>HTML defines the content and structure of your website</h4>"
      ],
      "metadata": {
        "id": "pEd-P9oLJ61w"
      }
    },
    {
      "cell_type": "markdown",
      "source": [
        "\n",
        "\n",
        "#2 - Explain the purpose of comments in HTML and provide an example of how to use comments in an HTML document ?\n",
        "\n",
        "\n",
        "\n",
        "- Purpose of Comments in HTML Comments in HTML are used to add notes or explanations to the code that are not visible\n",
        "to users when the page is displayed in a browser.\n",
        "\n",
        "They serve several purposes:\n",
        "\n",
        "Documentation\n",
        "-  Comments help developers understand the purpose of different parts of the code,\n",
        " making it easier for others (or themselves in the future) to maintain or modify the HTML document.\n",
        "\n",
        "Debugging\n",
        "- Comments can be used to temporarily disable parts of the code for testing purposes.\n",
        "\n",
        "Collaboration\n",
        "- They facilitate communication among team members by providing context about specific sections of the code.\n",
        "Example of Using Comments in HTML\n",
        "\n",
        "There are two types of comments single line comment and multi line comments -\n",
        "\n",
        "To add a  single line comment in HTML, we can use  use the <!-- and --> tags.\n",
        "\n",
        "we can also make big cooment having several lines\n"
      ],
      "metadata": {
        "id": "TkuFOufOGkDu"
      }
    },
    {
      "cell_type": "code",
      "source": [
        "\n",
        " <!--\n",
        "    This is a multi-line comment.\n",
        "    It can span several lines and is useful for explaining complex sections of code.\n",
        "    -->\n"
      ],
      "metadata": {
        "id": "MiQS4gLA2hts"
      },
      "execution_count": null,
      "outputs": []
    },
    {
      "cell_type": "markdown",
      "source": [
        "# 3-Write an HTML program that includes a heading, a paragraph of text, a horizontal line, and a line break. Arrange these elements to create a simple web page layout?\n",
        "\n"
      ],
      "metadata": {
        "id": "0eVVVYWKK9qf"
      }
    },
    {
      "cell_type": "markdown",
      "source": [
        "<!DOCTYPE html>\n",
        "<html lang=\"en\">\n",
        "<head>\n",
        "    <meta charset=\"UTF-8\">\n",
        "    <meta name=\"viewport\" content=\"width=device-width, initial-scale=1.0\">\n",
        "    <title>Trump's Trade War</title>\n",
        "</head>\n",
        "<body>\n",
        "    <h1>Trump Unleashes Trade War</h1>\n",
        "    \n",
        "    <p>Trump engaged in significant trade conflicts, particularly with China, by imposing tariffs on billions of dollars worth of goods.\n",
        "     This was part of his \"America First\" policy, aiming to reduce trade deficits and bring manufacturing back to the U.S.</p>\n",
        "    \n",
        "    <hr>\n",
        "    \n",
        "    <p>\n",
        "    The trade war created volatility in global markets, impacting investor confidence in emerging economies, including India.\n",
        "     Indian industries reliant on Chinese imports (such as electronics and auto components) faced cost pressures due to disrupted supply chains.\n",
        "     </p>\n",
        "     \n",
        "</body>\n",
        "</html>"
      ],
      "metadata": {
        "id": "dyzhEcY1IIdZ"
      }
    },
    {
      "cell_type": "markdown",
      "source": [
        "# 4- Write a short note on Tag and element with an example ?\n",
        "\n",
        "\n",
        "- Tags and Elements in HTML\n",
        "\n",
        "In HTML, tags and elements are essential components that define and structure content on web pages.\n",
        "\n",
        "# Tags\n",
        "\n",
        "Tags are special markup symbols enclosed in angle brackets (< >) that define the beginning and end of an element. Most tags come in pairs:\n",
        "\n",
        "Opening tag: Marks the start of an element (e.g., <p> for a paragraph).\n",
        "\n",
        "Closing tag: Marks the end of an element (e.g., </p> for a paragraph).\n",
        "\n",
        "# Elements\n",
        "\n",
        "An element consists of\n",
        "\n",
        "An opening tag\n",
        "\n",
        "The content inside the element\n",
        "\n",
        "A closing tag\n",
        "\n",
        "Example of an HTML element\n",
        "\n",
        "Opening tag: <p>\n",
        "Content: \"I am Learning full Stack development from PW .\"\n",
        "Closing tag: </p>\n",
        "\n",
        "Explanation\n",
        "In this example, the <p> and </p> tags define a paragraph element. The text inside the tags is the content of the paragraph.\n",
        "The browser interprets this and displays it as a paragraph on the webpage.\n",
        "\n",
        "Another Example: Heading Element\n",
        "\n",
        "Opening tag: <h1> (Defines a heading)\n",
        "Content: \"Welcome to My Website\"\n",
        "Closing tag: </h1>\n",
        "\n",
        "Self-Closing Tags\n",
        "\n",
        "Some HTML elements do not have closing tags and are called self-closing tags or void elements.\n",
        "\n",
        "Example: <img src=\"image.jpg\" alt=\"A sample image\">"
      ],
      "metadata": {
        "id": "YnWeTlYaMz15"
      }
    },
    {
      "cell_type": "markdown",
      "source": [
        "# 5 - What is the DOCTYPE Declaration in HTML ?\n",
        "\n",
        "By including <!DOCTYPE html>, you ensure that modern browsers interpret and render your page correctly according to current web standards.\n",
        "\n",
        "he DOCTYPE Declaration in HTML is a statement that informs the web browser about the type and version of HTML used in the document.\n",
        "\n",
        "The DOCTYPE declaration ensures that the browser renders the page in \"standards mode,\" adhering to modern web standards, rather than\n",
        "\n",
        "\"quirks mode,\" which emulates older, non-standard browser behavior\n",
        "\n",
        "In HTML5, the DOCTYPE declaration is simplified and does not reference a Document Type Definition (DTD).\n",
        "\n",
        "DOCTYPE should be placed in  first line in an HTML document, before any other content, to properly instruct the browser\n",
        "\n",
        "Example of the basic Doctype declaration"
      ],
      "metadata": {
        "id": "qO3tCokfKWiF"
      }
    },
    {
      "cell_type": "markdown",
      "source": [
        "<!DOCTYPE html>\n",
        "\n",
        "<html lang=\"en\">\n",
        "\n",
        "<head>\n",
        "    <meta charset=\"UTF-8\">\n",
        "    <meta name=\"viewport\" content=\"width=device-width, initial-scale=1.0\">\n",
        "    <title>Example Page</title>\n",
        "</head>\n",
        "\n",
        "<body>\n",
        "    <h1>Welcome to My Web Page</h1>\n",
        "\n",
        "    <p>This is a simple example of an HTML5 document.</p>\n",
        "\n",
        "</body>\n",
        "\n",
        "</html>"
      ],
      "metadata": {
        "id": "zVhbF1HMKcUj"
      }
    }
  ]
}